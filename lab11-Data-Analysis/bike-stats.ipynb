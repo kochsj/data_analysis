{
 "cells": [
  {
   "cell_type": "markdown",
   "metadata": {},
   "source": [
    "# Data Analysis\n",
    "## Bike Stats\n",
    "#### Stephen Koch 12/16/2019"
   ]
  },
  {
   "cell_type": "code",
   "execution_count": 1,
   "metadata": {},
   "outputs": [],
   "source": [
    "import pandas as pd\n",
    "import numpy as np"
   ]
  },
  {
   "cell_type": "code",
   "execution_count": 2,
   "metadata": {},
   "outputs": [],
   "source": [
    "df_station = pd.read_csv('cycle-share-dataset/station.csv')"
   ]
  },
  {
   "cell_type": "code",
   "execution_count": 3,
   "metadata": {},
   "outputs": [],
   "source": [
    "df_trip = pd.read_csv('cycle-share-dataset/trip.csv')"
   ]
  },
  {
   "cell_type": "code",
   "execution_count": 4,
   "metadata": {},
   "outputs": [],
   "source": [
    "df_weather = pd.read_csv('cycle-share-dataset/weather.csv')"
   ]
  },
  {
   "cell_type": "markdown",
   "metadata": {},
   "source": [
    "#### What is the average trip duration for a borrowed bicycle?"
   ]
  },
  {
   "cell_type": "code",
   "execution_count": 5,
   "metadata": {},
   "outputs": [
    {
     "data": {
      "text/plain": [
       "1178.3542840325176"
      ]
     },
     "execution_count": 5,
     "metadata": {},
     "output_type": "execute_result"
    }
   ],
   "source": [
    "df_trip['tripduration'].mean() "
   ]
  },
  {
   "cell_type": "markdown",
   "metadata": {},
   "source": [
    "#### What’s the most common age of a bicycle-sharer?"
   ]
  },
  {
   "cell_type": "code",
   "execution_count": 6,
   "metadata": {},
   "outputs": [
    {
     "data": {
      "text/plain": [
       "0    32.0\n",
       "dtype: float64"
      ]
     },
     "execution_count": 6,
     "metadata": {},
     "output_type": "execute_result"
    }
   ],
   "source": [
    "average_birth_year = df_trip['birthyear'].mode()\n",
    "most_common_age = 2019 - average_birth_year\n",
    "most_common_age"
   ]
  },
  {
   "cell_type": "markdown",
   "metadata": {},
   "source": [
    "#### Given all the weather data here, find the average precipitation per month, and the median precipitation."
   ]
  },
  {
   "cell_type": "code",
   "execution_count": 7,
   "metadata": {},
   "outputs": [
    {
     "data": {
      "text/plain": [
       "{'10/14': 0.2855,\n",
       " '11/14': 0.33199999999999996,\n",
       " '12/14': 0.46645161290322573,\n",
       " '1/15': 0.5370967741935483,\n",
       " '2/15': 0.7564285714285715,\n",
       " '3/15': 0.8183870967741934,\n",
       " '4/15': 0.9006666666666667,\n",
       " '5/15': 0.8858064516129034,\n",
       " '6/15': 0.9180000000000003,\n",
       " '7/15': 0.8970967741935487,\n",
       " '8/15': 0.9325806451612906,\n",
       " '9/15': 0.9990000000000003,\n",
       " '10/15': 1.087096774193549,\n",
       " '11/15': 1.3406666666666676,\n",
       " '12/15': 1.6122580645161302,\n",
       " '1/16': 1.8287096774193563,\n",
       " '2/16': 2.119655172413794,\n",
       " '3/16': 2.138709677419356,\n",
       " '4/16': 2.256000000000001,\n",
       " '5/16': 2.1938709677419364,\n",
       " '6/16': 2.3223333333333347,\n",
       " '7/16': 2.2629032258064528,\n",
       " '8/16': 2.2638709677419366}"
      ]
     },
     "execution_count": 7,
     "metadata": {},
     "output_type": "execute_result"
    }
   ],
   "source": [
    "# df_weather['month'] = pd.DatetimeIndex(df_weather['Date']).month\n",
    "# df_weather.groupby('month')['Precipitation_In'].mean()\n",
    "# df_weather['Precipitation_In'].median()\n",
    "dates = df_weather['Date']\n",
    "weather = df_weather['Precipitation_In']\n",
    "averages_by_month = dict()\n",
    "total, days = 0, 1\n",
    "month, year = 10, 14\n",
    "for index, row in df_weather.iterrows():\n",
    "#     print(row['Date'][0:2])\n",
    "    if row['Date'][0:2] == str(month): #2 digit months\n",
    "        total += float(row['Precipitation_In'])\n",
    "        days += 1\n",
    "    elif row['Date'][0:1] == str(month): #1 digit months\n",
    "        total += float(row['Precipitation_In'])\n",
    "        days += 1\n",
    "    else:\n",
    "        averages_by_month[f'{month}/{year}'] = total/days\n",
    "        if month < 12:\n",
    "            month += 1\n",
    "            days = 1\n",
    "        else:\n",
    "            month = 1\n",
    "            days = 1\n",
    "            year += 1\n",
    "averages_by_month[f'{month}/{year}'] = total/days\n",
    "\n",
    "averages_by_month\n",
    "#     print(row['Date'], row['Precipitation_In'])"
   ]
  },
  {
   "cell_type": "markdown",
   "metadata": {},
   "source": [
    "#### What’s the average number of bikes at a given bike station?"
   ]
  },
  {
   "cell_type": "code",
   "execution_count": 8,
   "metadata": {},
   "outputs": [
    {
     "name": "stdout",
     "output_type": "stream",
     "text": [
      "Average number of bikes at a station:  16.517241379310345\n"
     ]
    }
   ],
   "source": [
    "average_bikes = float(df_station['current_dockcount'].mean())\n",
    "print('Average number of bikes at a station: ', average_bikes)"
   ]
  },
  {
   "cell_type": "markdown",
   "metadata": {},
   "source": [
    "#### When a bike station is modified, is it more likely that it’ll lose bikes or gain bikes? How do you know?"
   ]
  },
  {
   "cell_type": "code",
   "execution_count": 9,
   "metadata": {},
   "outputs": [
    {
     "name": "stdout",
     "output_type": "stream",
     "text": [
      "Number of stores that gained bikes:  8\n",
      "Number of stores that lost bikes:  7\n"
     ]
    }
   ],
   "source": [
    "gained_bikes = 0\n",
    "lost_bikes = 0\n",
    "for index, row in df_station.iterrows():\n",
    "    if row['current_dockcount'] != 0:\n",
    "        difference = int(row['current_dockcount']) - int(row['install_dockcount'])\n",
    "        if difference < 0:\n",
    "            lost_bikes += 1\n",
    "        if difference > 0:\n",
    "            gained_bikes += 1\n",
    "print('Number of stores that gained bikes: ', gained_bikes)\n",
    "print('Number of stores that lost bikes: ', lost_bikes)"
   ]
  },
  {
   "cell_type": "markdown",
   "metadata": {},
   "source": [
    "#### What is the average age of the bike riders?"
   ]
  },
  {
   "cell_type": "code",
   "execution_count": 10,
   "metadata": {},
   "outputs": [
    {
     "name": "stdout",
     "output_type": "stream",
     "text": [
      "Average age:  40\n"
     ]
    }
   ],
   "source": [
    "average_year = int(df_trip['birthyear'].mean())\n",
    "age = 2019 - average_year\n",
    "print('Average age: ', age)"
   ]
  },
  {
   "cell_type": "markdown",
   "metadata": {},
   "source": [
    "#### Do males or females ride more with this service?"
   ]
  },
  {
   "cell_type": "code",
   "execution_count": 11,
   "metadata": {},
   "outputs": [
    {
     "name": "stdout",
     "output_type": "stream",
     "text": [
      "Most frequently reported gender:  Male\n",
      "Males: 140564 - 49%\n",
      "Females: 37562 - 13%\n",
      "Other: 3431 - 1%\n",
      "No gender provided: 105301 - 36%\n"
     ]
    }
   ],
   "source": [
    "most_frequent = df_trip['gender'].mode()\n",
    "males, females, other, none = 0, 0, 0, 0\n",
    "for index, row in df_trip.iterrows():\n",
    "    if row['gender'] == 'Male':\n",
    "        males += 1\n",
    "    elif row['gender'] == 'Female':\n",
    "        females += 1\n",
    "    elif row['gender'] == 'Other':\n",
    "        other += 1\n",
    "    else:\n",
    "        none += 1\n",
    "print('Most frequently reported gender: ', most_frequent[0])\n",
    "print('Males: ', males, ' - ', int((males/len(df_trip['gender']))*100), '%', sep='')\n",
    "print('Females: ', females, ' - ', int((females/len(df_trip['gender']))*100), '%', sep='')\n",
    "print('Other: ', other, ' - ', int((other/len(df_trip['gender']))*100), '%', sep='')\n",
    "print('No gender provided: ', none, ' - ', int((none/len(df_trip['gender']))*100), '%', sep='')"
   ]
  },
  {
   "cell_type": "markdown",
   "metadata": {},
   "source": [
    "#### Are members more likely to be male or female?"
   ]
  },
  {
   "cell_type": "code",
   "execution_count": 12,
   "metadata": {},
   "outputs": [
    {
     "name": "stdout",
     "output_type": "stream",
     "text": [
      "Males: 140564 - 77%\n",
      "Females: 37562 - 20%\n",
      "Other: 3431 - 1%\n"
     ]
    }
   ],
   "source": [
    "males, females, other, none, total = 0, 0, 0, 0, 0\n",
    "for index, row in df_trip.iterrows():\n",
    "    if row['usertype'] == 'Member':\n",
    "        if row['gender'] == 'Male':\n",
    "            males += 1\n",
    "            total += 1\n",
    "        elif row['gender'] == 'Female':\n",
    "            females += 1\n",
    "            total += 1\n",
    "        elif row['gender'] == 'Other':\n",
    "            other += 1\n",
    "            total += 1\n",
    "\n",
    "print('Males: ', males, ' - ', int((males/total)*100), '%', sep='')\n",
    "print('Females: ', females, ' - ', int((females/total)*100), '%', sep='')\n",
    "print('Other: ', other, ' - ', int((other/total)*100), '%', sep='')            "
   ]
  }
 ],
 "metadata": {
  "kernelspec": {
   "display_name": "Python 3",
   "language": "python",
   "name": "python3"
  },
  "language_info": {
   "codemirror_mode": {
    "name": "ipython",
    "version": 3
   },
   "file_extension": ".py",
   "mimetype": "text/x-python",
   "name": "python",
   "nbconvert_exporter": "python",
   "pygments_lexer": "ipython3",
   "version": "3.7.5"
  }
 },
 "nbformat": 4,
 "nbformat_minor": 4
}
